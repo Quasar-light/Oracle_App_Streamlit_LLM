{
 "cells": [
  {
   "cell_type": "code",
   "execution_count": 41,
   "metadata": {},
   "outputs": [],
   "source": [
    "#All the packages, modules, and classes that need to be installed to make the code function\n",
    "#Using Vs Code, hover over keywords for info\n",
    "import json\n",
    "import os\n",
    "import random\n",
    "from dataclasses import dataclass, field\n",
    "from pathlib import Path\n",
    "from typing import List\n",
    "from uuid import uuid4\n",
    "\n",
    "import openai\n",
    "import streamlit as st"
   ]
  },
  {
   "cell_type": "code",
   "execution_count": 70,
   "metadata": {},
   "outputs": [
    {
     "name": "stdout",
     "output_type": "stream",
     "text": [
      "2024011421edwzby\n"
     ]
    }
   ],
   "source": [
    "import random #generates random variables\n",
    "from datetime import datetime #from dt module call dt class out of the 6 others avaiable in dt \n",
    "from string import ascii_lowercase #make string characters lowercase\n",
    "\n",
    "\n",
    "def date_id(now=None):\n",
    "#Create and name function, define parameter, nullify now\n",
    "    now = now or datetime.utcnow() #redefine now to include dt.utcnow() function\n",
    "    return now.strftime(\"%Y%m%d%H\") + \"\".join(random.choices(ascii_lowercase, k=7))\n",
    "\n",
    "    \"\"\" now.strftime(), formats the datetime expression \n",
    "        .join(), takes all items and join them into one string\n",
    "        random.choices, generates choices from any interable(ex. string, list, etc)\n",
    "        k=6, defines how many random choice objects should be generated.\n",
    "        ex. ascii_lowercase, k=6, means generate 6 random lowercase letters\n",
    "        \n",
    "        In total this code essential creates a unique identifier for each session state\"\"\"\n",
    "\n",
    "print(date_id(now=None))\n"
   ]
  },
  {
   "cell_type": "code",
   "execution_count": 60,
   "metadata": {},
   "outputs": [
    {
     "name": "stdout",
     "output_type": "stream",
     "text": [
      "abcdefghijklmnopqrstuvwxyz\n"
     ]
    }
   ],
   "source": [
    "print(ascii_lowercase)"
   ]
  }
 ],
 "metadata": {
  "kernelspec": {
   "display_name": "Python 3",
   "language": "python",
   "name": "python3"
  },
  "language_info": {
   "codemirror_mode": {
    "name": "ipython",
    "version": 3
   },
   "file_extension": ".py",
   "mimetype": "text/x-python",
   "name": "python",
   "nbconvert_exporter": "python",
   "pygments_lexer": "ipython3",
   "version": "3.11.5"
  },
  "orig_nbformat": 4
 },
 "nbformat": 4,
 "nbformat_minor": 2
}
